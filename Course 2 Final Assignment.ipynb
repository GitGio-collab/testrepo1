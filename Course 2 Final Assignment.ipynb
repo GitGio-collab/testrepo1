{
 "cells": [
  {
   "cell_type": "markdown",
   "id": "5eb3ab86-a66a-4dee-93af-7ce32aab17c2",
   "metadata": {},
   "source": [
    "## My Jupyter Notebook on IBM Watson Studio"
   ]
  },
  {
   "cell_type": "markdown",
   "id": "164b653a-aa41-42a3-abe3-00bb230b33c4",
   "metadata": {},
   "source": [
    "**Giovanni Rustici**\n",
    "\n",
    "I would love to one day explore more of the field of investment banking as a financial data analyst. "
   ]
  },
  {
   "cell_type": "markdown",
   "id": "ef2af7f8-0c11-4145-91f1-a540e1575f56",
   "metadata": {},
   "source": [
    "*I'm currently interested in the field of data science beacuse of my passion for mathematics and statsistics. I would also like to see and learn how languages like python can be applied to topics in finance.*"
   ]
  },
  {
   "cell_type": "markdown",
   "id": "045d58b4-d27e-44d5-8537-f2a9da06450b",
   "metadata": {},
   "source": [
    "**In cell 5, my code is meant to execute the simple multiplication of three numbers**"
   ]
  },
  {
   "cell_type": "code",
   "execution_count": 3,
   "id": "f8d8a60d-3e92-484f-993b-647174c92334",
   "metadata": {},
   "outputs": [
    {
     "name": "stdout",
     "output_type": "stream",
     "text": [
      "6\n"
     ]
    }
   ],
   "source": [
    "one = 1\n",
    "two = 2\n",
    "three = 3\n",
    "print(one*two*three)"
   ]
  },
  {
   "cell_type": "markdown",
   "id": "93fc54cd-6e71-4c8d-8b9f-a717aa0f6c4e",
   "metadata": {},
   "source": [
    "|f(x)|sqrd(x)|\n",
    "|------|------|\n",
    "|2|4|\n",
    "|------|------|\n",
    "|4|16|\n",
    "|------|------|\n",
    "|8|64|\n",
    "\n",
    "1. CAPM \n",
    "2. APT\n",
    "3. Utility Max. \n",
    "\n",
    "*Lagrange \n",
    "\n",
    "*Euler\n",
    "\n",
    "*Newton"
   ]
  }
 ],
 "metadata": {
  "kernelspec": {
   "display_name": "Python 3 (ipykernel)",
   "language": "python",
   "name": "python3"
  },
  "language_info": {
   "codemirror_mode": {
    "name": "ipython",
    "version": 3
   },
   "file_extension": ".py",
   "mimetype": "text/x-python",
   "name": "python",
   "nbconvert_exporter": "python",
   "pygments_lexer": "ipython3",
   "version": "3.10.4"
  }
 },
 "nbformat": 4,
 "nbformat_minor": 5
}
